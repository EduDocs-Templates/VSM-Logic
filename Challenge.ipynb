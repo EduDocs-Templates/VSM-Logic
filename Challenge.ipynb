{
 "cells": [
  {
   "cell_type": "markdown",
   "metadata": {},
   "source": [
    "# Logic, Sets, and Functions\n",
    "\n",
    "## Activity 1\n",
    "\n",
    "In this activity, we review and code five ways to form new statements from existing ones.\n",
    "They correspond to the English expressions: and; or; not; if, then; if and only if.\n",
    "In the exercise below, $P$ and $Q$ represent two abstract statements.\n",
    "\n",
    "### Deliverables\n",
    "\n",
    "Implement Python version of the **conditional** and **biconditional** functions."
   ]
  },
  {
   "cell_type": "code",
   "execution_count": null,
   "metadata": {},
   "outputs": [],
   "source": [
    "import math"
   ]
  },
  {
   "cell_type": "markdown",
   "metadata": {},
   "source": [
    "### Conjunction\n",
    "\n",
    "A logical **conjunction** is an operation on two logical propositions that produces a value of true if both statements are true, and is false otherwise.\n",
    "The conjunction (or logical AND) of $P$ and $Q$ is denoted by $P \\wedge Q$"
   ]
  },
  {
   "cell_type": "code",
   "execution_count": null,
   "metadata": {},
   "outputs": [],
   "source": [
    "def myConjunction(P,Q):\n",
    "    return P and Q"
   ]
  },
  {
   "cell_type": "markdown",
   "metadata": {},
   "source": [
    "### Disjunction\n",
    "\n",
    "Similarly, a logical **disjunction** is an operator on two logical propositions that is true if either statement is true or both are true, and is false otherwise.\n",
    "The disjunction (or logical OR) of $P$ and $Q$ is denoted by $P \\vee Q$."
   ]
  },
  {
   "cell_type": "code",
   "execution_count": null,
   "metadata": {},
   "outputs": [],
   "source": [
    "def myDisjunction(P,Q):\n",
    "    return P or Q"
   ]
  },
  {
   "cell_type": "markdown",
   "metadata": {},
   "source": [
    "### Negation\n",
    "\n",
    "The **negation** is an operator on the logical value of a proposition that sends true to false and false to true.\n",
    "The negation (or logical NOT) of $P$ is denoted by $\\neg P$."
   ]
  },
  {
   "cell_type": "code",
   "execution_count": null,
   "metadata": {},
   "outputs": [],
   "source": [
    "def myNegation(P):\n",
    "    return not P"
   ]
  },
  {
   "cell_type": "markdown",
   "metadata": {},
   "source": [
    "### Conditional Connective\n",
    "\n",
    "The next method of combining mathematical statements is slightly more subtle than the preceding ones.\n",
    "The **conditional connective** $P \\rightarrow Q$ is a logical statement that is read *if $P$ then $Q$*.\n",
    "In this statement, $P$ is called the antecedent and $Q$ is called the consequent."
   ]
  },
  {
   "cell_type": "code",
   "execution_count": null,
   "metadata": {},
   "outputs": [],
   "source": [
    "def myConditional(P,Q):\n",
    "    #\n",
    "    # WRITE CODE\n",
    "    #\n",
    "    return True"
   ]
  },
  {
   "cell_type": "markdown",
   "metadata": {},
   "source": [
    "### Biconditional\n",
    "\n",
    "The logical **biconditional** is an operator connecting two logical propositions that is true if the statements are both true or both false, and it is false otherwise.\n",
    "The biconditional from $P$ to $Q$ is denoted by $P \\leftrightarrow Q$."
   ]
  },
  {
   "cell_type": "code",
   "execution_count": null,
   "metadata": {},
   "outputs": [],
   "source": [
    "def myBiconditional(P,Q):\n",
    "    #\n",
    "    # WRITE CODE\n",
    "    #\n",
    "    return True"
   ]
  },
  {
   "cell_type": "markdown",
   "metadata": {},
   "source": [
    "### Testing\n",
    "\n",
    "You can test your implementation of the conditional and biconditional using a truth table.\n",
    "You will find a rudimentary example below."
   ]
  },
  {
   "cell_type": "code",
   "execution_count": null,
   "metadata": {},
   "outputs": [],
   "source": [
    "print(\"P     | Q     | Conjunction (P,Q)\")\n",
    "for P in (True, False):\n",
    "    for Q in (True, False):\n",
    "        print(str(P).ljust(5), \"|\", str(Q).ljust(5), \"| \",str(myConjunction(P,Q)).ljust(5))"
   ]
  },
  {
   "cell_type": "markdown",
   "metadata": {},
   "source": [
    "## Activity 2\n",
    "\n",
    "Code each of the following statement using the five functions you have already implemented.\n",
    "1. $P \\wedge \\neg Q$\n",
    "2. $(P \\vee Q) \\wedge \\neg P$\n",
    "3. $P \\vee (\\neg Q \\vee R)$\n",
    "4. $(P \\vee Q) \\wedge (P \\vee R)$\n",
    "5. $(P \\wedge R) \\vee \\neg (Q \\wedge S)$"
   ]
  },
  {
   "cell_type": "code",
   "execution_count": null,
   "metadata": {},
   "outputs": [],
   "source": [
    "def myProblem1(LogicVector):\n",
    "    P = LogicVector[0]\n",
    "    Q = LogicVector[1]\n",
    "    return myConjunction(P, myNegation(Q))\n",
    "\n",
    "def myProblem2(LogicVector):\n",
    "    #\n",
    "    # WRITE CODE\n",
    "    #\n",
    "    return True\n",
    "\n",
    "def myProblem3(LogicVector):\n",
    "    #\n",
    "    # WRITE CODE\n",
    "    #\n",
    "    return True\n",
    "\n",
    "def myProblem4(LogicVector):\n",
    "    #\n",
    "    # WRITE CODE\n",
    "    #\n",
    "    return True\n",
    "\n",
    "def myProblem5(LogicVector):\n",
    "    #\n",
    "    # WRITE CODE\n",
    "    #\n",
    "    return True"
   ]
  },
  {
   "cell_type": "markdown",
   "metadata": {},
   "source": [
    "### Deliverables\n",
    "\n",
    "User submissions are evaluated by comparing their truthtable in CSV format to the ground truth solution.\n",
    "Documents to be submitted are as follows.\n",
    "\n",
    "__GitHub__: Every student should commit and push files.\n",
    " 1. A truth table `table.csv` generated using the code below.\n",
    " 2. Jupyter notebook code `challenge.ipynb`."
   ]
  },
  {
   "cell_type": "code",
   "execution_count": null,
   "metadata": {},
   "outputs": [],
   "source": [
    "import numpy as np\n",
    "import pandas as pd\n",
    "from itertools import product\n",
    "\n",
    "LogicVectors = [list(boolvalue) for boolvalue in product([False,True], repeat=4)]\n",
    "truthtable = np.array(LogicVectors)\n",
    "\n",
    "Prolem1Truth = np.array([myProblem1(LogicVector) for LogicVector in LogicVectors])\n",
    "truthtable=np.column_stack((truthtable,Prolem1Truth))\n",
    "\n",
    "Prolem2Truth = np.array([myProblem2(LogicVector) for LogicVector in LogicVectors])\n",
    "truthtable=np.column_stack((truthtable,Prolem2Truth))\n",
    "\n",
    "Prolem3Truth = np.array([myProblem3(LogicVector) for LogicVector in LogicVectors])\n",
    "truthtable=np.column_stack((truthtable,Prolem3Truth))\n",
    "\n",
    "Prolem4Truth = np.array([myProblem4(LogicVector) for LogicVector in LogicVectors])\n",
    "truthtable=np.column_stack((truthtable,Prolem4Truth))\n",
    "\n",
    "Prolem5Truth = np.array([myProblem5(LogicVector) for LogicVector in LogicVectors])\n",
    "truthtable=np.column_stack((truthtable,Prolem5Truth))\n",
    "\n",
    "header = ['Arg1','Arg2','Arg3','Arg4','Problem1','Problem2','Problem3','Problem4','Problem5']\n",
    "table_df = pd.DataFrame(data=truthtable.astype(int), index=None, columns=header)\n",
    "print(table_df)\n",
    "\n",
    "table_df.to_csv('table.csv', index=False)"
   ]
  },
  {
   "cell_type": "code",
   "execution_count": null,
   "metadata": {},
   "outputs": [],
   "source": []
  }
 ],
 "metadata": {
  "kernelspec": {
   "display_name": "Python 3",
   "language": "python",
   "name": "python3"
  },
  "language_info": {
   "codemirror_mode": {
    "name": "ipython",
    "version": 3
   },
   "file_extension": ".py",
   "mimetype": "text/x-python",
   "name": "python",
   "nbconvert_exporter": "python",
   "pygments_lexer": "ipython3",
   "version": "3.7.6"
  }
 },
 "nbformat": 4,
 "nbformat_minor": 4
}
